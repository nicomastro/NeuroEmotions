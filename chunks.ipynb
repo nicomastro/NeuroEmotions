{
 "cells": [
  {
   "cell_type": "code",
   "execution_count": 16,
   "metadata": {},
   "outputs": [],
   "source": [
    "import nibabel as nib\n",
    "import numpy as np\n",
    "import os\n",
    "import datalad.api\n",
    "\n",
    "def split_nii_file(file_path,output_folder, chunk_size=15):\n",
    "    # Check if file is a symbolic link\n",
    "    # The last 4 elements of the path are dataset/sub-*/func/*.nii.gz\n",
    "    # I need to set DataLad to be run from the dataset folder\n",
    "    # The file path thet datalad uses should be the last 3 elements\n",
    "    if os.path.islink(file_path):\n",
    "        # Use datalad to get the real file path\n",
    "        datalad_file_path = file_path.split('/')[-3:]\n",
    "        datalad_file_path = '/'.join(datalad_file_path)\n",
    "        datalad.api.get(datalad_file_path, result_xfm='paths', return_type='item-or-list')\n",
    "        \n",
    "\n",
    "    img = nib.load(file_path)\n",
    "    data = img.get_fdata()\n",
    "    data = data[:,:,:,:180]\n",
    "    \n",
    "    # Determine the number of chunks\n",
    "    total_time_points = data.shape[-1]\n",
    "    num_chunks = total_time_points // chunk_size\n",
    "    \n",
    "    # Split the data into chunks\n",
    "    chunks = np.array_split(data, num_chunks, axis=-1)\n",
    "    \n",
    "    # Save each chunk as a new NIfTI file (optional)\n",
    "    for i, chunk in enumerate(chunks):\n",
    "        chunk_img = nib.Nifti1Image(chunk, img.affine, img.header)\n",
    "        nib.save(chunk_img, f\"../{output_folder}/{os.path.basename(file_path).replace('.nii.gz', f'_chunk{i}.nii.gz')}\")\n",
    "    \n",
    "\n",
    "def split_nii_files_dataset(file_suffix, chunk_size, output_folder):\n",
    "    # Create output folder if it does not exist\n",
    "    if not os.path.exists(\"../\"+output_folder):\n",
    "        os.makedirs(\"../\"+output_folder)\n",
    "    # List folders in the dataset\n",
    "    \n",
    "    folders = os.listdir(\".\")\n",
    "    \n",
    "    \n",
    "    # Useful folders are those that start with 'sub-'\n",
    "    useful_folders = [folder for folder in folders if folder.startswith('sub-') and os.path.isdir(os.path.abspath(folder))]\n",
    "    \n",
    "    for folder in useful_folders:\n",
    "        # List files in {folder}/func ending in file_suffix\n",
    "        func_folder = os.path.join(folder, 'func')\n",
    "        files = os.listdir(func_folder)\n",
    "        useful_files = [file for file in files if file.endswith(file_suffix + '.nii.gz')]\n",
    "        useful_files = [file for file in useful_files if \"emotionalfaces_run\" in file]\n",
    "        for file in useful_files:\n",
    "            file_path = os.path.join(func_folder, file)\n",
    "            split_nii_file(file_path, output_folder, chunk_size)\n"
   ]
  },
  {
   "cell_type": "code",
   "execution_count": 17,
   "metadata": {},
   "outputs": [
    {
     "name": "stderr",
     "output_type": "stream",
     "text": [
      "[WARNING] Failed to get 'sourcedata/templateflow/tpl-Fischer344.path', skipping this submodule \n",
      "[WARNING] Failed to get 'sourcedata/templateflow/tpl-fsaverage.path', skipping this submodule \n",
      "[WARNING] Failed to get 'sourcedata/templateflow/tpl-fsLR.path', skipping this submodule \n",
      "[WARNING] Failed to get 'sourcedata/templateflow/tpl-MNI152Lin.path', skipping this submodule \n",
      "[WARNING] Failed to get 'sourcedata/templateflow/tpl-MNI152NLin2009aAsym.path', skipping this submodule \n",
      "[WARNING] Failed to get 'sourcedata/templateflow/tpl-MNI152NLin2009aSym.path', skipping this submodule \n",
      "[WARNING] Failed to get 'sourcedata/templateflow/tpl-MNI152NLin2009bAsym.path', skipping this submodule \n",
      "[WARNING] Failed to get 'sourcedata/templateflow/tpl-MNI152NLin2009bSym.path', skipping this submodule \n",
      "[WARNING] Failed to get 'sourcedata/templateflow/tpl-MNI152NLin2009cAsym.path', skipping this submodule \n",
      "[WARNING] Failed to get 'sourcedata/templateflow/tpl-MNI152NLin2009cSym.path', skipping this submodule \n",
      "[WARNING] Failed to get 'sourcedata/templateflow/tpl-MNI152NLin6Asym.path', skipping this submodule \n",
      "[WARNING] Failed to get 'sourcedata/templateflow/tpl-MNI152NLin6Sym.path', skipping this submodule \n",
      "[WARNING] Failed to get 'sourcedata/templateflow/tpl-MNI305.path', skipping this submodule \n",
      "[WARNING] Failed to get 'sourcedata/templateflow/tpl-MNIColin27.path', skipping this submodule \n",
      "[WARNING] Failed to get 'sourcedata/templateflow/tpl-MNIInfant.path', skipping this submodule \n",
      "[WARNING] Failed to get 'sourcedata/templateflow/tpl-MNIPediatricAsym.path', skipping this submodule \n",
      "[WARNING] Failed to get 'sourcedata/templateflow/tpl-MouseIn.path', skipping this submodule \n",
      "[WARNING] Failed to get 'sourcedata/templateflow/tpl-NKI.path', skipping this submodule \n",
      "[WARNING] Failed to get 'sourcedata/templateflow/tpl-NMT31Sym.path', skipping this submodule \n",
      "[WARNING] Failed to get 'sourcedata/templateflow/tpl-OASIS30ANTs.path', skipping this submodule \n",
      "[WARNING] Failed to get 'sourcedata/templateflow/tpl-PNC.path', skipping this submodule \n",
      "[WARNING] Failed to get 'sourcedata/templateflow/tpl-RESILIENT.path', skipping this submodule \n",
      "[WARNING] Failed to get 'sourcedata/templateflow/tpl-UNCInfant.path', skipping this submodule \n",
      "[WARNING] Failed to get 'sourcedata/templateflow/tpl-VALiDATe29.path', skipping this submodule \n",
      "[WARNING] Failed to get 'sourcedata/templateflow/tpl-WHS.path', skipping this submodule \n"
     ]
    },
    {
     "name": "stdout",
     "output_type": "stream",
     "text": [
      "get(ok): sub-06/func/sub-06_task-emotionalfaces_run-3_space-MNI152NLin2009cAsym_res-2_desc-brain_mask.nii.gz (file) [from openneuro-derivatives...]\n"
     ]
    },
    {
     "ename": "IndexError",
     "evalue": "too many indices for array: array is 3-dimensional, but 4 were indexed",
     "output_type": "error",
     "traceback": [
      "\u001b[0;31m---------------------------------------------------------------------------\u001b[0m",
      "\u001b[0;31mIndexError\u001b[0m                                Traceback (most recent call last)",
      "Cell \u001b[0;32mIn[17], line 5\u001b[0m\n\u001b[1;32m      3\u001b[0m \u001b[38;5;28;01mif\u001b[39;00m \u001b[38;5;129;01mnot\u001b[39;00m \u001b[38;5;124m'\u001b[39m\u001b[38;5;124mds003548-fmriprep\u001b[39m\u001b[38;5;124m'\u001b[39m \u001b[38;5;241m==\u001b[39m os\u001b[38;5;241m.\u001b[39mgetcwd()\u001b[38;5;241m.\u001b[39msplit(\u001b[38;5;124m'\u001b[39m\u001b[38;5;124m/\u001b[39m\u001b[38;5;124m'\u001b[39m)[\u001b[38;5;241m-\u001b[39m\u001b[38;5;241m1\u001b[39m]:\n\u001b[1;32m      4\u001b[0m     os\u001b[38;5;241m.\u001b[39mchdir(\u001b[38;5;124m'\u001b[39m\u001b[38;5;124mds003548-fmriprep\u001b[39m\u001b[38;5;124m'\u001b[39m)\n\u001b[0;32m----> 5\u001b[0m \u001b[43msplit_nii_files_dataset\u001b[49m\u001b[43m(\u001b[49m\u001b[38;5;124;43m'\u001b[39;49m\u001b[38;5;124;43mAsym_res-2_desc-preproc_bold\u001b[39;49m\u001b[38;5;124;43m'\u001b[39;49m\u001b[43m,\u001b[49m\u001b[43m \u001b[49m\u001b[38;5;241;43m15\u001b[39;49m\u001b[43m,\u001b[49m\u001b[38;5;124;43m'\u001b[39;49m\u001b[38;5;124;43mml-chunks\u001b[39;49m\u001b[38;5;124;43m'\u001b[39;49m\u001b[43m)\u001b[49m\n",
      "Cell \u001b[0;32mIn[16], line 55\u001b[0m, in \u001b[0;36msplit_nii_files_dataset\u001b[0;34m(file_suffix, chunk_size, output_folder)\u001b[0m\n\u001b[1;32m     53\u001b[0m \u001b[38;5;28;01mfor\u001b[39;00m file \u001b[38;5;129;01min\u001b[39;00m useful_files:\n\u001b[1;32m     54\u001b[0m     file_path \u001b[38;5;241m=\u001b[39m os\u001b[38;5;241m.\u001b[39mpath\u001b[38;5;241m.\u001b[39mjoin(func_folder, file)\n\u001b[0;32m---> 55\u001b[0m     \u001b[43msplit_nii_file\u001b[49m\u001b[43m(\u001b[49m\u001b[43mfile_path\u001b[49m\u001b[43m,\u001b[49m\u001b[43m \u001b[49m\u001b[43moutput_folder\u001b[49m\u001b[43m,\u001b[49m\u001b[43m \u001b[49m\u001b[43mchunk_size\u001b[49m\u001b[43m)\u001b[49m\n",
      "Cell \u001b[0;32mIn[16], line 20\u001b[0m, in \u001b[0;36msplit_nii_file\u001b[0;34m(file_path, output_folder, chunk_size)\u001b[0m\n\u001b[1;32m     18\u001b[0m img \u001b[38;5;241m=\u001b[39m nib\u001b[38;5;241m.\u001b[39mload(file_path)\n\u001b[1;32m     19\u001b[0m data \u001b[38;5;241m=\u001b[39m img\u001b[38;5;241m.\u001b[39mget_fdata()\n\u001b[0;32m---> 20\u001b[0m data \u001b[38;5;241m=\u001b[39m \u001b[43mdata\u001b[49m\u001b[43m[\u001b[49m\u001b[43m:\u001b[49m\u001b[43m,\u001b[49m\u001b[43m:\u001b[49m\u001b[43m,\u001b[49m\u001b[43m:\u001b[49m\u001b[43m,\u001b[49m\u001b[43m:\u001b[49m\u001b[38;5;241;43m180\u001b[39;49m\u001b[43m]\u001b[49m\n\u001b[1;32m     22\u001b[0m \u001b[38;5;66;03m# Determine the number of chunks\u001b[39;00m\n\u001b[1;32m     23\u001b[0m total_time_points \u001b[38;5;241m=\u001b[39m data\u001b[38;5;241m.\u001b[39mshape[\u001b[38;5;241m-\u001b[39m\u001b[38;5;241m1\u001b[39m]\n",
      "\u001b[0;31mIndexError\u001b[0m: too many indices for array: array is 3-dimensional, but 4 were indexed"
     ]
    }
   ],
   "source": [
    "\n",
    "# Run datalad install https://github.com/OpenNeuroDerivatives/ds003548-fmriprep.git before running this script\n",
    "# If current folder is not the dataset folder, change to it\n",
    "if not 'ds003548-fmriprep' == os.getcwd().split('/')[-1]:\n",
    "    os.chdir('ds003548-fmriprep')\n",
    "split_nii_files_dataset('Asym_res-2_desc-preproc_bold', 15,'ml-chunks')"
   ]
  }
 ],
 "metadata": {
  "kernelspec": {
   "display_name": "neuro",
   "language": "python",
   "name": "python3"
  },
  "language_info": {
   "codemirror_mode": {
    "name": "ipython",
    "version": 3
   },
   "file_extension": ".py",
   "mimetype": "text/x-python",
   "name": "python",
   "nbconvert_exporter": "python",
   "pygments_lexer": "ipython3",
   "version": "3.11.8"
  }
 },
 "nbformat": 4,
 "nbformat_minor": 2
}
