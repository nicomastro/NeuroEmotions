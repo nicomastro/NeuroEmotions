{
 "cells": [
  {
   "cell_type": "code",
   "execution_count": 14,
   "metadata": {},
   "outputs": [],
   "source": [
    "import nibabel as nib\n",
    "import numpy as np\n",
    "import os\n",
    "import datalad.api\n",
    "\n",
    "def split_nii_file(file_path,output_folder, chunk_size=15):\n",
    "    # Check if file is a symbolic link\n",
    "    # The last 4 elements of the path are dataset/sub-*/func/*.nii.gz\n",
    "    # I need to set DataLad to be run from the dataset folder\n",
    "    # The file path thet datalad uses should be the last 3 elements\n",
    "    if os.path.islink(file_path):\n",
    "        # Use datalad to get the real file path\n",
    "        datalad_file_path = file_path.split('/')[-3:]\n",
    "        datalad_file_path = '/'.join(datalad_file_path)\n",
    "        datalad.api.get(datalad_file_path, result_xfm='paths', return_type='item-or-list')\n",
    "        \n",
    "\n",
    "    img = nib.load(file_path)\n",
    "    data = img.get_fdata()\n",
    "    data = data[:,:,:,:180]\n",
    "    \n",
    "    # Determine the number of chunks\n",
    "    total_time_points = data.shape[-1]\n",
    "    num_chunks = total_time_points // chunk_size\n",
    "    \n",
    "    # Split the data into chunks\n",
    "    chunks = np.array_split(data, num_chunks, axis=-1)\n",
    "    \n",
    "    # Save each chunk as a new NIfTI file (optional)\n",
    "    for i, chunk in enumerate(chunks):\n",
    "        chunk_img = nib.Nifti1Image(chunk, img.affine, img.header)\n",
    "        nib.save(chunk_img, f\"../{output_folder}/{os.path.basename(file_path).replace('.nii.gz', f'_chunk{i}.nii.gz')}\")\n",
    "    \n",
    "\n",
    "def split_nii_files_dataset(file_suffix, chunk_size, output_folder):\n",
    "    # Create output folder if it does not exist\n",
    "    if not os.path.exists(\"../\"+output_folder):\n",
    "        os.makedirs(\"../\"+output_folder)\n",
    "    # List folders in the dataset\n",
    "    \n",
    "    folders = os.listdir(\".\")\n",
    "    \n",
    "    \n",
    "    # Useful folders are those that start with 'sub-'\n",
    "    useful_folders = [folder for folder in folders if folder.startswith('sub-') and os.path.isdir(os.path.abspath(folder))]\n",
    "    \n",
    "    for folder in useful_folders:\n",
    "        # List files in {folder}/func ending in file_suffix\n",
    "        func_folder = os.path.join(folder, 'func')\n",
    "        files = os.listdir(func_folder)\n",
    "        useful_files = [file for file in files if file.endswith(file_suffix + '.nii.gz')]\n",
    "        useful_files = [file for file in files if \"emotionalfaces_run\" in file]\n",
    "        for file in useful_files:\n",
    "            file_path = os.path.join(func_folder, file)\n",
    "            split_nii_file(file_path, output_folder, chunk_size)\n"
   ]
  },
  {
   "cell_type": "code",
   "execution_count": 15,
   "metadata": {},
   "outputs": [],
   "source": [
    "\n",
    "# Run datalad install https://github.com/OpenNeuroDerivatives/ds003548-fmriprep.git before running this script\n",
    "# If current folder is not the dataset folder, change to it\n",
    "if not 'ds003548-fmriprep' == os.getcwd().split('/')[-1]:\n",
    "    os.chdir('ds003548-fmriprep')\n",
    "split_nii_files_dataset('Asym_res-2_desc-preproc_bold', 15,'ml-chunks')"
   ]
  }
 ],
 "metadata": {
  "kernelspec": {
   "display_name": "neuro",
   "language": "python",
   "name": "python3"
  },
  "language_info": {
   "codemirror_mode": {
    "name": "ipython",
    "version": 3
   },
   "file_extension": ".py",
   "mimetype": "text/x-python",
   "name": "python",
   "nbconvert_exporter": "python",
   "pygments_lexer": "ipython3",
   "version": "3.11.8"
  }
 },
 "nbformat": 4,
 "nbformat_minor": 2
}
